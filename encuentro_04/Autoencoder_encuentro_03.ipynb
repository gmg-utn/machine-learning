{
 "cells": [
  {
   "cell_type": "markdown",
   "metadata": {
    "id": "0pwEFgkMrdwJ"
   },
   "source": [
    "# Implementación de autoencoders en Python con Keras"
   ]
  },
  {
   "cell_type": "markdown",
   "metadata": {
    "id": "W2Smukc4rlnb"
   },
   "source": [
    "Exploraremos las redes neuronales __autoencoders__ e implementaremos una red combinando CNN con auntoencoder para eliminar ruido de imágenes, obtenidas del dataset noMNIST, utilizando Python y Keras.\n",
    "\n",
    "Este tutorial está adaptado de [Implementing Autoencoders in Keras: Tutorial](https://www.datacamp.com/community/tutorials/autoencoder-keras-tutorial) de [Aditya Sharma](https://www.datacamp.com/profile/adityasharma101993)\n"
   ]
  },
  {
   "cell_type": "markdown",
   "metadata": {
    "id": "kXeftk8XyXxL"
   },
   "source": [
    "## Autoencoder\n",
    "\n",
    "Un autoencoder es un algoritmo de _machine learning_ __no supervisado__ que se entrena para intentar copiar su _input_ en su _output_. Internamente, tiene una capa oculta $h$ que describe un __código__ usado para representar el __input__. \n",
    "Se puede considerar que la red está compuesta de dos partes: una función _encoder_ (o codificadora) $h = f(x)$ y una función _decoder_ (o descodificadora) que produce una reconstrucción $r = g(h)$.\n",
    "\n",
    "Si un autoencoder tiene éxito en aprender que $g(f(x)) = x$ para todos los _inputs_, simplemente no resulta útil. En vez de eso, los autoencoders se diseñan para que no sean capaces de aprender a copiar exactamente, sino que se restringen para permitirles copiar solo aproximadamente algo que parezca los datos de entrada. Dado que el modelo está forzado a priorizar algunos aspectos que deben ser copiados, a menudo aprenden propiedades útiles de los datos.\n",
    "\n",
    "Los autoencoders funcionan de una forma parecida a otras técnicas de reducción dimensional, como por ejemplo el análisis de componentes principales (PCA). Proyectan los datos desde un espacio de altas dimensiones a una de menor dimensión utilizando una transformación lineal e intentando preservar las características (_features_) importantes de los datos, eliminando las no esenciales.\n",
    "\n",
    "Sin emabrgo, la mayor diferencia entre autoencoders y PCA radica en el mecanismo de reducción, mientras que PCA utiliza una transformación lineal, los autoencoders utilizan transformaciones no lineales.\n",
    "\n",
    "La figura siguiente muestra un esquema de arquitectura autoencoder:\n",
    "\n",
    "![autoencoder](https://upload.wikimedia.org/wikipedia/commons/2/28/Autoencoder_structure.png) \n",
    "\n",
    "(imagen de [Wikimedia](https://en.wikipedia.org/wiki/Autoencoder) ) \n",
    "\n",
    "En este diagrama se puede apreciar que la estructura puede dividirse en tres partes:\n",
    "\n",
    "1. __Encoder__: no es otra cosa que una red neuronal (una DNN o CNN, pero como en este caso vamos a trabajar con imágenes, consideraremos esta última). Básicamente, el encoder toma una entrada y la convierte en una representación densa más chica, que luego la red decoder puede usar para convertirla nuevamente en la entrada original.\n",
    "\n",
    "2. __El cuello de botella__ (z), o __*Bottleneck*__: es la última capa de la red encoder, donde se encuentra la representación densa más chica, llamada a menudo __espacio latente__ o simplemente _bottleneck_. Este cuello de botella presenta el máximo punto de compresión y consiste en la codificación (_encoding_) del _input_.\n",
    "\n",
    "3. __Decoder__: la red decoder hace exactamente lo opuesto de la red enconder, esto es, toma la representación comprimida de la capa _bottleneck_ e intenta reconstruir la entrada original."
   ]
  },
  {
   "cell_type": "markdown",
   "metadata": {
    "id": "-anXADX03yev"
   },
   "source": [
    "## Autoencoders convolucionales en Python con Keras\n",
    "\n",
    "Como propósito final de este tutorial intentaremos reconstruir imágenes con ruido, y como los _inputs_ serán entonces imágenes, es apropiado utilizar un autoencoder convolucional. Esta red consiste simplemente en una sucesión de capas convolucionales y una estructura autoencoder (para otras aplicaciones se puede reemplazar la CNN por capas completamente conectadas). La idea entonces es convertir una imagen \"grande\" de 28 x 28 de un solo canal (escalas de grises) en una imagen pequeña de 7 x 7 y de 128 canales. Para eso utilizaremos capas convolucionales seguidas de capas de submuestreo (combinación máxima o _max pooling_).\n",
    "\n",
    "Esta estructura le permite a la red extraer de las imágenes las características visuales y por lo tanto obtener una representación de espacio latente precisa. A partir de aquí se inicia la reconstrucción con nuevas capas convolucionales.\n",
    "\n"
   ]
  },
  {
   "cell_type": "markdown",
   "metadata": {
    "id": "3zCAI5hvFSWK"
   },
   "source": [
    "## Habilitación y verificación de GPU\n",
    "\n",
    "Primero necesitamos habilitar una GPU para el notebook. Para ello, hay que acceder al menú: Editar / Configuración del notebook, y seleccionar GPU del menú desplegable \"Acelerador de hardware\".\n",
    "\n",
    "Luego, confirmamos que podemos conectar la GPU con tensorflow:"
   ]
  },
  {
   "cell_type": "code",
   "execution_count": 32,
   "metadata": {
    "colab": {
     "base_uri": "https://localhost:8080/",
     "height": 34
    },
    "executionInfo": {
     "elapsed": 620,
     "status": "ok",
     "timestamp": 1601991975387,
     "user": {
      "displayName": "Manuel Carlevaro",
      "photoUrl": "https://lh3.googleusercontent.com/a-/AOh14GgU2aHPlZbak01JdIoElzuKSs_BKDnXIXVlFac94A=s64",
      "userId": "01135182971085477709"
     },
     "user_tz": 180
    },
    "id": "xn6xM2B-LAtJ",
    "outputId": "3ca52480-7f4c-48e6-b1db-7baabe7cbc73"
   },
   "outputs": [
    {
     "name": "stdout",
     "output_type": "stream",
     "text": [
      "Found GPU at: /device:GPU:0\n"
     ]
    }
   ],
   "source": [
    "%tensorflow_version 2.x\n",
    "import tensorflow as tf\n",
    "device_name = tf.test.gpu_device_name()\n",
    "if device_name != '/device:GPU:0':\n",
    "  raise SystemError('GPU device not found')\n",
    "print('Found GPU at: {}'.format(device_name))"
   ]
  },
  {
   "cell_type": "markdown",
   "metadata": {
    "id": "LNafySRpG1qv"
   },
   "source": [
    "## Carga de datos\n",
    "\n",
    "El dataset notMNIST es un conjunto de datos para el reconocimiento de imágenes que contiene glifos de letras desde la A hasta la J. Es muy similar al clásico dataset MNIST, que contiene imágenes de dígitos escritos a mano de 0 a 9. En este caso, notMNIST comprende imágenes en escala de grises de 28 x 28 de 70.000 letras en 10 categorías, con 6.000 imágenes por cada letra.\n",
    "\n",
    "Este dataset no está predefinido en Keras o TensorFlow, por lo que tenemos que descargarlos desde su [repositorio](https://github.com/davidflanagan/notMNIST-to-MNIST). Los datos se descargarán en formato `ubyte.gzip y los convertiremos en arrays de numpy. A continuación importamos los módulos necesarios que usaremos en este tutorial."
   ]
  },
  {
   "cell_type": "code",
   "execution_count": 33,
   "metadata": {
    "executionInfo": {
     "elapsed": 615,
     "status": "ok",
     "timestamp": 1601991975388,
     "user": {
      "displayName": "Manuel Carlevaro",
      "photoUrl": "https://lh3.googleusercontent.com/a-/AOh14GgU2aHPlZbak01JdIoElzuKSs_BKDnXIXVlFac94A=s64",
      "userId": "01135182971085477709"
     },
     "user_tz": 180
    },
    "id": "3aXGPcSqLb3S"
   },
   "outputs": [],
   "source": [
    "import keras\n",
    "from matplotlib import pyplot as plt\n",
    "import numpy as np\n",
    "import gzip\n",
    "%matplotlib inline\n",
    "from keras.layers import Input,Conv2D,MaxPooling2D,UpSampling2D\n",
    "from keras.models import Model\n",
    "from keras.optimizers import RMSprop\n",
    "import os\n",
    "import sys\n",
    "import tarfile\n",
    "from six.moves.urllib.request import urlretrieve\n"
   ]
  },
  {
   "cell_type": "markdown",
   "metadata": {
    "id": "2NrsS_wCJNp4"
   },
   "source": [
    "Primero descargamos los datos, si es que no los tenemos localmente, y verificamos el tamaño de la descarga (o de los archivos locales si ya los tenemos). Los archivos a descargar contienen las imágenes de entrenamiento y prueba, y las etiquetas de entrenamiento y prueba."
   ]
  },
  {
   "cell_type": "code",
   "execution_count": 34,
   "metadata": {
    "cellView": "both",
    "colab": {
     "base_uri": "https://localhost:8080/",
     "height": 86
    },
    "executionInfo": {
     "elapsed": 612,
     "status": "ok",
     "timestamp": 1601991975390,
     "user": {
      "displayName": "Manuel Carlevaro",
      "photoUrl": "https://lh3.googleusercontent.com/a-/AOh14GgU2aHPlZbak01JdIoElzuKSs_BKDnXIXVlFac94A=s64",
      "userId": "01135182971085477709"
     },
     "user_tz": 180
    },
    "id": "EYRJ4ICW6-da",
    "outputId": "a4c0c537-8278-43e6-b151-0ea80c802549"
   },
   "outputs": [
    {
     "name": "stdout",
     "output_type": "stream",
     "text": [
      "Found and verified train-images-idx3-ubyte.gz\n",
      "Found and verified t10k-images-idx3-ubyte.gz\n",
      "Found and verified train-labels-idx1-ubyte.gz\n",
      "Found and verified t10k-labels-idx1-ubyte.gz\n"
     ]
    }
   ],
   "source": [
    "url = 'https://github.com/davidflanagan/notMNIST-to-MNIST/raw/master/'\n",
    "\n",
    "def maybe_download(filename, expected_bytes, force=False):\n",
    "  \"\"\"Download a file if not present, and make sure it's the right size.\"\"\"\n",
    "  if force or not os.path.exists(filename):\n",
    "    filename, _ = urlretrieve(url + filename, filename)\n",
    "  statinfo = os.stat(filename)\n",
    "  if statinfo.st_size == expected_bytes:\n",
    "    print('Found and verified', filename)\n",
    "  else:\n",
    "    raise Exception(\n",
    "      'Failed to verify ' + filename + '. Can you get to it with a browser?')\n",
    "  return filename\n",
    "\n",
    "# Could not get the download to work through python for some reason.\n",
    "# Completed it manually through the web browser.\n",
    "train_images = maybe_download('train-images-idx3-ubyte.gz', 19997892)\n",
    "test_images = maybe_download('t10k-images-idx3-ubyte.gz',3172375)\n",
    "train_labels = maybe_download('train-labels-idx1-ubyte.gz', 29455)\n",
    "test_labels = maybe_download('t10k-labels-idx1-ubyte.gz', 5118)"
   ]
  },
  {
   "cell_type": "markdown",
   "metadata": {
    "id": "2_W6vHlxLhI0"
   },
   "source": [
    "A continuación definimos una función que abre los archivos `gzip` y los lee usando `bytestream.read()`. A esta función le pasamos la dimensión de las imágenes y el número total de imágenes. Luego, con `np.frombuffer()` convertimos la string almacenada en la variable `buf` en un array de numpy de typo `float32`\n",
    "\n",
    "Luego cambiamos la forma de este array en un array tridimensional o tensor, donde la primera dimensión es el número de imágenes, y la segunda y tercera dimensiones son las de cada imagen. Finalmente devolvemos el array `data`."
   ]
  },
  {
   "cell_type": "code",
   "execution_count": 35,
   "metadata": {
    "executionInfo": {
     "elapsed": 605,
     "status": "ok",
     "timestamp": 1601991975390,
     "user": {
      "displayName": "Manuel Carlevaro",
      "photoUrl": "https://lh3.googleusercontent.com/a-/AOh14GgU2aHPlZbak01JdIoElzuKSs_BKDnXIXVlFac94A=s64",
      "userId": "01135182971085477709"
     },
     "user_tz": 180
    },
    "id": "tyTjI1ZBXptJ"
   },
   "outputs": [],
   "source": [
    "def extract_data(filename, num_images):\n",
    "    with gzip.open(filename) as bytestream:\n",
    "        bytestream.read(16)\n",
    "        buf = bytestream.read(28 * 28 * num_images)\n",
    "        data = np.frombuffer(buf, dtype=np.uint8).astype(np.float32)\n",
    "        data = data.reshape(num_images, 28,28)\n",
    "        return data"
   ]
  },
  {
   "cell_type": "markdown",
   "metadata": {
    "id": "z0VrL7b-LqJi"
   },
   "source": [
    "Ahora podemos invocar a la función `extract_data()` pasándole los archivos de entrenamiento y prueba junto con sus correspondientes número de imágenes:"
   ]
  },
  {
   "cell_type": "code",
   "execution_count": 36,
   "metadata": {
    "executionInfo": {
     "elapsed": 1372,
     "status": "ok",
     "timestamp": 1601991976162,
     "user": {
      "displayName": "Manuel Carlevaro",
      "photoUrl": "https://lh3.googleusercontent.com/a-/AOh14GgU2aHPlZbak01JdIoElzuKSs_BKDnXIXVlFac94A=s64",
      "userId": "01135182971085477709"
     },
     "user_tz": 180
    },
    "id": "Mm4jvHT-Xy0V"
   },
   "outputs": [],
   "source": [
    "train_data = extract_data('train-images-idx3-ubyte.gz', 60000)\n",
    "test_data = extract_data('t10k-images-idx3-ubyte.gz', 10000)"
   ]
  },
  {
   "cell_type": "markdown",
   "metadata": {
    "id": "Hccr8YXUNK9G"
   },
   "source": [
    "Procedemos de la misma manera que con las imágenes para extraer los arrrays con las etiquetas de entrenamiento y prueba:"
   ]
  },
  {
   "cell_type": "code",
   "execution_count": 37,
   "metadata": {
    "executionInfo": {
     "elapsed": 1368,
     "status": "ok",
     "timestamp": 1601991976163,
     "user": {
      "displayName": "Manuel Carlevaro",
      "photoUrl": "https://lh3.googleusercontent.com/a-/AOh14GgU2aHPlZbak01JdIoElzuKSs_BKDnXIXVlFac94A=s64",
      "userId": "01135182971085477709"
     },
     "user_tz": 180
    },
    "id": "upbSg3seU7pt"
   },
   "outputs": [],
   "source": [
    "def extract_labels(filename, num_images):\n",
    "    with gzip.open(filename) as bytestream:\n",
    "        bytestream.read(8)\n",
    "        buf = bytestream.read(1 * num_images)\n",
    "        labels = np.frombuffer(buf, dtype=np.uint8).astype(np.int64)\n",
    "        return labels"
   ]
  },
  {
   "cell_type": "code",
   "execution_count": 38,
   "metadata": {
    "executionInfo": {
     "elapsed": 1367,
     "status": "ok",
     "timestamp": 1601991976165,
     "user": {
      "displayName": "Manuel Carlevaro",
      "photoUrl": "https://lh3.googleusercontent.com/a-/AOh14GgU2aHPlZbak01JdIoElzuKSs_BKDnXIXVlFac94A=s64",
      "userId": "01135182971085477709"
     },
     "user_tz": 180
    },
    "id": "r1hxTC05YnMT"
   },
   "outputs": [],
   "source": [
    "train_labels = extract_labels('train-labels-idx1-ubyte.gz',60000)\n",
    "test_labels = extract_labels('t10k-labels-idx1-ubyte.gz',10000)"
   ]
  },
  {
   "cell_type": "markdown",
   "metadata": {
    "id": "iJnkcP26NcNO"
   },
   "source": [
    "## Exploración de los datos\n",
    "\n",
    "Vamos a analizar cómo son las imágenes en el dataset y verificaremos la dimensión de las imágenes:"
   ]
  },
  {
   "cell_type": "code",
   "execution_count": 39,
   "metadata": {
    "colab": {
     "base_uri": "https://localhost:8080/",
     "height": 52
    },
    "executionInfo": {
     "elapsed": 1361,
     "status": "ok",
     "timestamp": 1601991976165,
     "user": {
      "displayName": "Manuel Carlevaro",
      "photoUrl": "https://lh3.googleusercontent.com/a-/AOh14GgU2aHPlZbak01JdIoElzuKSs_BKDnXIXVlFac94A=s64",
      "userId": "01135182971085477709"
     },
     "user_tz": 180
    },
    "id": "dXhaoU2_YqJR",
    "outputId": "588e3c27-fe40-4455-a678-b6ebbd900e45"
   },
   "outputs": [
    {
     "name": "stdout",
     "output_type": "stream",
     "text": [
      "Conjunto de entrenamiento (imágenes) shape: (60000, 28, 28)\n",
      "Conjunto de prueba (imágenes) shape: (10000, 28, 28)\n"
     ]
    }
   ],
   "source": [
    "# Shapes del conjunto de entrenamiento\n",
    "print(\"Conjunto de entrenamiento (imágenes) shape: {shape}\".format(shape=train_data.shape))\n",
    "\n",
    "# Shapes of test set\n",
    "print(\"Conjunto de prueba (imágenes) shape: {shape}\".format(shape=test_data.shape))"
   ]
  },
  {
   "cell_type": "markdown",
   "metadata": {
    "id": "_H1yYlH1OCt2"
   },
   "source": [
    "De la salida anterior vemos que el conjunto de entrenamiento tiene una forma (_shape_) 60.000 x 28 x 28, dado que hay 60.000 muestras para entrenamiento, cada una en una matriz 28 x 28. Del mismo modo los datos de prueba tienen una _shape_ de 10.000 x 28 x 28 porque tenemos 10.000 muestras para la etapa de prueba.\n",
    "\n",
    "En el entrenamiento de la red no utilizaremos las etiquetas de entrenamiento y prueba, ya que este tipo de aprendizaje es __no supervisado__. Sin embargo serán útiles para la exploración de los datos.\n",
    "\n",
    "Ahora vamos a crear un diccionario que tiene los nombres de las clases con sus correspondientes etiquetas categóricas:"
   ]
  },
  {
   "cell_type": "code",
   "execution_count": 40,
   "metadata": {
    "executionInfo": {
     "elapsed": 1357,
     "status": "ok",
     "timestamp": 1601991976167,
     "user": {
      "displayName": "Manuel Carlevaro",
      "photoUrl": "https://lh3.googleusercontent.com/a-/AOh14GgU2aHPlZbak01JdIoElzuKSs_BKDnXIXVlFac94A=s64",
      "userId": "01135182971085477709"
     },
     "user_tz": 180
    },
    "id": "3i8QTNMZZfuM"
   },
   "outputs": [],
   "source": [
    "# Diccionario de las etiquetas de clases\n",
    "label_dict = {\n",
    " 0: 'A',\n",
    " 1: 'B',\n",
    " 2: 'C',\n",
    " 3: 'D',\n",
    " 4: 'E',\n",
    " 5: 'F',\n",
    " 6: 'G',\n",
    " 7: 'H',\n",
    " 8: 'I',\n",
    " 9: 'J',\n",
    "}"
   ]
  },
  {
   "cell_type": "markdown",
   "metadata": {
    "id": "rIy43XDcPTjY"
   },
   "source": [
    "Veamos ahora un par de imágenes del dataset:"
   ]
  },
  {
   "cell_type": "code",
   "execution_count": 41,
   "metadata": {
    "colab": {
     "base_uri": "https://localhost:8080/",
     "height": 233
    },
    "executionInfo": {
     "elapsed": 1864,
     "status": "ok",
     "timestamp": 1601991976683,
     "user": {
      "displayName": "Manuel Carlevaro",
      "photoUrl": "https://lh3.googleusercontent.com/a-/AOh14GgU2aHPlZbak01JdIoElzuKSs_BKDnXIXVlFac94A=s64",
      "userId": "01135182971085477709"
     },
     "user_tz": 180
    },
    "id": "qHKaK1IVZkqD",
    "outputId": "045b1eae-6c09-42c1-9b47-4c877e1ba6f1"
   },
   "outputs": [
    {
     "data": {
      "text/plain": [
       "Text(0.5, 1.0, '(Etiqueta: D)')"
      ]
     },
     "execution_count": 41,
     "metadata": {
      "tags": []
     },
     "output_type": "execute_result"
    },
    {
     "data": {
      "image/png": "[encoded data removed]",
      "text/plain": [
       "<Figure size 432x432 with 2 Axes>"
      ]
     },
     "metadata": {
      "needs_background": "light",
      "tags": []
     },
     "output_type": "display_data"
    }
   ],
   "source": [
    "plt.figure(figsize=[6,6])\n",
    "\n",
    "# Primera imagen en los datos de entrenamiento\n",
    "plt.subplot(121)\n",
    "img_idx = 0\n",
    "curr_img = np.reshape(train_data[img_idx], (28,28))\n",
    "curr_lbl = train_labels[img_idx]\n",
    "plt.imshow(curr_img, cmap='gray')\n",
    "plt.title(\"(Etiqueta: \" + str(label_dict[curr_lbl]) + \")\")\n",
    "\n",
    "# Primera imagen en los datos de prueba\n",
    "plt.subplot(122)\n",
    "curr_img = np.reshape(test_data[img_idx], (28,28))\n",
    "curr_lbl = test_labels[img_idx]\n",
    "plt.imshow(curr_img, cmap='gray')\n",
    "plt.title(\"(Etiqueta: \" + str(label_dict[curr_lbl]) + \")\")"
   ]
  },
  {
   "cell_type": "markdown",
   "metadata": {
    "id": "5NfdC-uRRTDx"
   },
   "source": [
    "Las imágenes anteriores muestran dos ejemplos de imágenes del conjunto de entrenamiento y prueba, que tienen asignadas etiquetas de clase `5` o `F` en el primer caso, y `3` o `D` en el segundo. Otras letras van a tener etiquetas diferentes, pero las que son similares entre si tendrán la misma etiqueta. Esto significa que todas las 6.000 imágenes de `F` van a tener una etiqueta de clase `5`"
   ]
  },
  {
   "cell_type": "markdown",
   "metadata": {
    "id": "M2EYNGaBSPzq"
   },
   "source": [
    "## Preprocesamiento de los datos\n",
    "\n",
    "Las imágenes del dataset están en escala de grises con valores de pixel en el rango [0, 255] con una dimensión de 28 x 28, por lo que antes de pasarlas como _input_ a la red es necesario preprocesarlas. Primero vamos a convertir cada imagen de los conjuntos de entrenamiento y prueba en una matriz de 28 x 28 x 1:"
   ]
  },
  {
   "cell_type": "code",
   "execution_count": 42,
   "metadata": {
    "colab": {
     "base_uri": "https://localhost:8080/",
     "height": 34
    },
    "executionInfo": {
     "elapsed": 1857,
     "status": "ok",
     "timestamp": 1601991976684,
     "user": {
      "displayName": "Manuel Carlevaro",
      "photoUrl": "https://lh3.googleusercontent.com/a-/AOh14GgU2aHPlZbak01JdIoElzuKSs_BKDnXIXVlFac94A=s64",
      "userId": "01135182971085477709"
     },
     "user_tz": 180
    },
    "id": "_CaJwnfQZ2cJ",
    "outputId": "a816fc5d-aba6-49b3-d8e7-4b859e49a6f6"
   },
   "outputs": [
    {
     "data": {
      "text/plain": [
       "((60000, 28, 28, 1), (10000, 28, 28, 1))"
      ]
     },
     "execution_count": 42,
     "metadata": {
      "tags": []
     },
     "output_type": "execute_result"
    }
   ],
   "source": [
    "train_data = train_data.reshape(-1, 28,28, 1)\n",
    "test_data = test_data.reshape(-1, 28,28, 1)\n",
    "train_data.shape, test_data.shape"
   ]
  },
  {
   "cell_type": "markdown",
   "metadata": {
    "id": "ON6VhxxdS38y"
   },
   "source": [
    "Tenemos que asegurarnos en que el tipo de los datos es `float32`. No es necesario realizar la conversión pues hicimos eso al leer los datos, pero siempre conviene verificar que está en el formato correcto:"
   ]
  },
  {
   "cell_type": "code",
   "execution_count": 43,
   "metadata": {
    "colab": {
     "base_uri": "https://localhost:8080/",
     "height": 34
    },
    "executionInfo": {
     "elapsed": 1850,
     "status": "ok",
     "timestamp": 1601991976684,
     "user": {
      "displayName": "Manuel Carlevaro",
      "photoUrl": "https://lh3.googleusercontent.com/a-/AOh14GgU2aHPlZbak01JdIoElzuKSs_BKDnXIXVlFac94A=s64",
      "userId": "01135182971085477709"
     },
     "user_tz": 180
    },
    "id": "vuHDEzZ5Z6WQ",
    "outputId": "d9e18c82-b6ae-4d1e-a8ca-473d047713ea"
   },
   "outputs": [
    {
     "data": {
      "text/plain": [
       "(dtype('float32'), dtype('float32'))"
      ]
     },
     "execution_count": 43,
     "metadata": {
      "tags": []
     },
     "output_type": "execute_result"
    }
   ],
   "source": [
    "train_data.dtype, test_data.dtype"
   ]
  },
  {
   "cell_type": "markdown",
   "metadata": {
    "id": "jj1FtpFqTWhJ"
   },
   "source": [
    "Ahora tenemos que reescalar los valores de los pixel al rango [0, 1], para esto verificamos los valores máximos en los arrays, hacemos la normalización, y verificamos:"
   ]
  },
  {
   "cell_type": "code",
   "execution_count": 44,
   "metadata": {
    "colab": {
     "base_uri": "https://localhost:8080/",
     "height": 52
    },
    "executionInfo": {
     "elapsed": 1845,
     "status": "ok",
     "timestamp": 1601991976685,
     "user": {
      "displayName": "Manuel Carlevaro",
      "photoUrl": "https://lh3.googleusercontent.com/a-/AOh14GgU2aHPlZbak01JdIoElzuKSs_BKDnXIXVlFac94A=s64",
      "userId": "01135182971085477709"
     },
     "user_tz": 180
    },
    "id": "aXSTIOZKZ9aK",
    "outputId": "1e0dccc8-0f73-4d91-e65d-8dfde499b0fa"
   },
   "outputs": [
    {
     "name": "stdout",
     "output_type": "stream",
     "text": [
      "255.0 255.0\n",
      "1.0 1.0\n"
     ]
    }
   ],
   "source": [
    "print(np.max(train_data), np.max(test_data))\n",
    "train_data = train_data / np.max(train_data)\n",
    "test_data = test_data / np.max(test_data)\n",
    "print(np.max(train_data), np.max(test_data))"
   ]
  },
  {
   "cell_type": "markdown",
   "metadata": {
    "id": "6dzCSBevT0Av"
   },
   "source": [
    "Habiendo normalizado los datos, es momento de realizar la partición de los datos de entrenamiento en los conjuntos de entrenamiento y validación. Utilizaremos el 80% de los datos para entrenar y los validaremos con el 20% de los datos restantes.\n",
    "\n",
    "Esto ayudará a reducir las posibilidades de sobreajuste, al validar el modelo con datos que no fueron utilizados en la etapa de entrenamiento. Usaremos el módulo `train_test_split` de scikit-learn para dividir los datos:"
   ]
  },
  {
   "cell_type": "code",
   "execution_count": 45,
   "metadata": {
    "executionInfo": {
     "elapsed": 1839,
     "status": "ok",
     "timestamp": 1601991976685,
     "user": {
      "displayName": "Manuel Carlevaro",
      "photoUrl": "https://lh3.googleusercontent.com/a-/AOh14GgU2aHPlZbak01JdIoElzuKSs_BKDnXIXVlFac94A=s64",
      "userId": "01135182971085477709"
     },
     "user_tz": 180
    },
    "id": "GG0BTowLaC4F"
   },
   "outputs": [],
   "source": [
    "from sklearn.model_selection import train_test_split\n",
    "train_X,valid_X,train_ground,valid_ground = train_test_split(train_data,\n",
    "                                                             train_data, \n",
    "                                                             test_size=0.2, \n",
    "                                                             random_state=13)"
   ]
  },
  {
   "cell_type": "markdown",
   "metadata": {
    "id": "l6iNkfXxVJNd"
   },
   "source": [
    "Hay que tener en cuenta que para esta tarea, no necesitamos etiquetas de entrenamiento y prueba. Por eso pasamos las imágenes de entrenamiento dos veces. Sus imágenes de entrenamiento actuarán tanto como entrada como como salida, en forma similar a las etiquetas en la tarea de clasificación."
   ]
  },
  {
   "cell_type": "markdown",
   "metadata": {
    "id": "iaURztZkVvQh"
   },
   "source": [
    "## Encoder convolucional\n",
    "\n",
    "Inicialmente las imágenes estaban en un vector de dimensión 784 (28 x 28 x 1), que fueron convertidas a una matriz de 28 x 28 y reescaladas al rango [0, 1]. Este será el _input_ de la red.\n",
    "\n",
    "Para el entrenamiento usaremos un batch de tamaño 128, aunque es preferible un tamaño mayor (256 o 512) pero esto depende del sistema disponible para entrenar el modelo. El tamaño del batch afecta notablemente en los parámetros de aprendizaje y en la precisión de la predicción. Entrenaremos al modelo en 50 épocas."
   ]
  },
  {
   "cell_type": "code",
   "execution_count": 46,
   "metadata": {
    "executionInfo": {
     "elapsed": 1837,
     "status": "ok",
     "timestamp": 1601991976686,
     "user": {
      "displayName": "Manuel Carlevaro",
      "photoUrl": "https://lh3.googleusercontent.com/a-/AOh14GgU2aHPlZbak01JdIoElzuKSs_BKDnXIXVlFac94A=s64",
      "userId": "01135182971085477709"
     },
     "user_tz": 180
    },
    "id": "Risc-lwiaVfM"
   },
   "outputs": [],
   "source": [
    "batch_size = 128\n",
    "epochs = 50\n",
    "inChannel = 1\n",
    "x, y = 28, 28\n",
    "input_img = Input(shape = (x, y, inChannel))"
   ]
  },
  {
   "cell_type": "markdown",
   "metadata": {
    "id": "qruMRVnlW9Iq"
   },
   "source": [
    "La estructura de la red se dividirá en dos partes:\n",
    "\n",
    "__Encoder__:\n",
    " \n",
    "- La primer capa es de 32 filtros de tamaño 3 x 3 seguida de una capa de submuestreo (_max-pooling_ o combinación máxima).\n",
    "- La segunda capa tiene 64 filtros de tamaño 3 x 3, seguida de otra capa de submuestreo.\n",
    "- La capa final del encoder tiene 128 filtros de tamaño 3 x 3.\n",
    "\n",
    "__Decoder__:\n",
    "\n",
    "- La primera capa es de 128 filtros de tamaño 3 x 3 seguida de una capa de sobremuestreo.\n",
    "- La segunda capa es de 64 filtros de tamaño 3 x 3 seguida de otra capa de sobremuestreo.\n",
    "- La capa final del decoder tiene un filtro de 3 x 3.\n",
    "\n",
    "La capa _max-pooling_ hace un submuestreo de la entrada reduciéndola a la mitad cada vez que la usamos, mientras que la capa de sobremuestreo duplicará su entrada cada vez que se use.\n",
    "\n",
    "__Nota__: El número de filtros, el tamaño de los mismos, el número de capas y el número de épocas de entrenamiento son todos hiperparámetros que deben determinarse sobre la base de la experiencia. Es importante hacer nuevos entrenamientos cambiando estos hiperparámetros y medir el desempeño del modelo."
   ]
  },
  {
   "cell_type": "code",
   "execution_count": 47,
   "metadata": {
    "executionInfo": {
     "elapsed": 1834,
     "status": "ok",
     "timestamp": 1601991976687,
     "user": {
      "displayName": "Manuel Carlevaro",
      "photoUrl": "https://lh3.googleusercontent.com/a-/AOh14GgU2aHPlZbak01JdIoElzuKSs_BKDnXIXVlFac94A=s64",
      "userId": "01135182971085477709"
     },
     "user_tz": 180
    },
    "id": "EeMfegEtaYIk"
   },
   "outputs": [],
   "source": [
    "def autoencoder(input_img):\n",
    "    #encoder\n",
    "    #input = 28 x 28 x 1 (wide and thin)\n",
    "    conv1 = Conv2D(32, (3, 3), activation='relu', padding='same')(input_img) #28 x 28 x 32\n",
    "    pool1 = MaxPooling2D(pool_size=(2, 2))(conv1) #14 x 14 x 32\n",
    "    conv2 = Conv2D(64, (3, 3), activation='relu', padding='same')(pool1) #14 x 14 x 64\n",
    "    pool2 = MaxPooling2D(pool_size=(2, 2))(conv2) #7 x 7 x 64\n",
    "    conv3 = Conv2D(128, (3, 3), activation='relu', padding='same')(pool2) #7 x 7 x 128 (small and thick)\n",
    "\n",
    "    #decoder\n",
    "    conv4 = Conv2D(128, (3, 3), activation='relu', padding='same')(conv3) #7 x 7 x 128\n",
    "    up1 = UpSampling2D((2,2))(conv4) # 14 x 14 x 128\n",
    "    conv5 = Conv2D(64, (3, 3), activation='relu', padding='same')(up1) # 14 x 14 x 64\n",
    "    up2 = UpSampling2D((2,2))(conv5) # 28 x 28 x 64\n",
    "    decoded = Conv2D(1, (3, 3), activation='sigmoid', padding='same')(up2) # 28 x 28 x 1\n",
    "    return decoded"
   ]
  },
  {
   "cell_type": "markdown",
   "metadata": {
    "id": "9z9Zdpgal-T2"
   },
   "source": [
    "Luego de creado el modelo, lo compilamos utilizando el optimizador RMSProp. Esta técnica de optimización basada en gradientes fue propuesta por [Geoffrey Hinton](https://es.wikipedia.org/wiki/Geoffrey_Hinton), uno de los coautores del [paper](https://www.nature.com/articles/323533a0) que propuso en 1986 el aprendizaje por _backpropagation_, y consiste en utilizar una media móvil del gradiente al cuadrado para normalizar el gradiente. Esta normalización equilibra el gradiente disminuyendo el paso para gradientes grandes evitando oscilaciones o divergencias, e incrementando el paso para gradientes pequeños para evitar el estancamiento. Una explicación gráfica del algoritmo puede verse en el [video](https://www.coursera.org/lecture/deep-neural-network/rmsprop-BhJlm) de [Andrew Ng](https://es.wikipedia.org/wiki/Andrew_Ng).\n",
    "\n",
    "![gradiente](https://github.com/gmg-utn/machine-learning/raw/master/encuentro_03/RMSProp.png)\n",
    "\n",
    "La idea consiste en que en cada iteración $t$ se calculan en el mini-batch $dw$ y $db$. Con estos valores se calculan las medias móviles:\n",
    "\n",
    "$$ S_{\\delta w}^{(t)} = \\beta S_{\\delta w}^{(t-1)} + (1 - \\beta) dw^2 \\;(\\leftarrow \\text{ pequeño, elemento por elemento}) $$\n",
    "$$ S_{\\delta b}^{(t)} = \\beta S_{\\delta b}^{(t-1)} + (1 - \\beta) db^2 \\;(\\leftarrow \\text{ grande, elemento por elemento}) $$\n",
    "$$ w \\leftarrow w - \\alpha \\frac{dw}{\\sqrt{S_{\\delta w}^{(t)}} + \\epsilon} $$\n",
    "\n",
    "$$ b \\leftarrow b - \\alpha \\frac{db}{\\sqrt{S_{\\delta b}^{(t)}} + \\epsilon} $$\n",
    "\n",
    "donde $\\alpha$ es la tasa de aprendizaje, $\\beta$ la tasa de decaimiento de la media móvil exponencial y $\\epsilon$ un número pequeño para evitar la división por cero. En este [link](https://imgur.com/a/Hqolp#NKsFHJb) se pueden ver algunas animaciones para comparar las velocidades de convergencia.\n",
    "\n",
    "![rmsprop](https://i.imgur.com/NKsFHJb.gif)"
   ]
  },
  {
   "cell_type": "code",
   "execution_count": 48,
   "metadata": {
    "executionInfo": {
     "elapsed": 1831,
     "status": "ok",
     "timestamp": 1601991976688,
     "user": {
      "displayName": "Manuel Carlevaro",
      "photoUrl": "https://lh3.googleusercontent.com/a-/AOh14GgU2aHPlZbak01JdIoElzuKSs_BKDnXIXVlFac94A=s64",
      "userId": "01135182971085477709"
     },
     "user_tz": 180
    },
    "id": "8dtmgxbAab4V"
   },
   "outputs": [],
   "source": [
    "autoencoder = Model(input_img, autoencoder(input_img))\n",
    "autoencoder.compile(loss='mean_squared_error', optimizer = RMSprop())"
   ]
  },
  {
   "cell_type": "markdown",
   "metadata": {
    "id": "n_52QlUNkmcr"
   },
   "source": [
    "Podemos ahora visualizar la estructura de la red usando el método `summary` que muestra el número de parámetros (pesos y _bias_ en cada capa, y también el número total de parámetros del modelo:"
   ]
  },
  {
   "cell_type": "code",
   "execution_count": 49,
   "metadata": {
    "colab": {
     "base_uri": "https://localhost:8080/",
     "height": 538
    },
    "executionInfo": {
     "elapsed": 1826,
     "status": "ok",
     "timestamp": 1601991976688,
     "user": {
      "displayName": "Manuel Carlevaro",
      "photoUrl": "https://lh3.googleusercontent.com/a-/AOh14GgU2aHPlZbak01JdIoElzuKSs_BKDnXIXVlFac94A=s64",
      "userId": "01135182971085477709"
     },
     "user_tz": 180
    },
    "id": "ZVtTCiDZafUl",
    "outputId": "e1cc8337-5d1e-46b8-85c4-93d83b3725d9"
   },
   "outputs": [
    {
     "name": "stdout",
     "output_type": "stream",
     "text": [
      "Model: \"functional_5\"\n",
      "_________________________________________________________________\n",
      "Layer (type)                 Output Shape              Param #   \n",
      "=================================================================\n",
      "input_3 (InputLayer)         [(None, 28, 28, 1)]       0         \n",
      "_________________________________________________________________\n",
      "conv2d_12 (Conv2D)           (None, 28, 28, 32)        320       \n",
      "_________________________________________________________________\n",
      "max_pooling2d_4 (MaxPooling2 (None, 14, 14, 32)        0         \n",
      "_________________________________________________________________\n",
      "conv2d_13 (Conv2D)           (None, 14, 14, 64)        18496     \n",
      "_________________________________________________________________\n",
      "max_pooling2d_5 (MaxPooling2 (None, 7, 7, 64)          0         \n",
      "_________________________________________________________________\n",
      "conv2d_14 (Conv2D)           (None, 7, 7, 128)         73856     \n",
      "_________________________________________________________________\n",
      "conv2d_15 (Conv2D)           (None, 7, 7, 128)         147584    \n",
      "_________________________________________________________________\n",
      "up_sampling2d_4 (UpSampling2 (None, 14, 14, 128)       0         \n",
      "_________________________________________________________________\n",
      "conv2d_16 (Conv2D)           (None, 14, 14, 64)        73792     \n",
      "_________________________________________________________________\n",
      "up_sampling2d_5 (UpSampling2 (None, 28, 28, 64)        0         \n",
      "_________________________________________________________________\n",
      "conv2d_17 (Conv2D)           (None, 28, 28, 1)         577       \n",
      "=================================================================\n",
      "Total params: 314,625\n",
      "Trainable params: 314,625\n",
      "Non-trainable params: 0\n",
      "_________________________________________________________________\n"
     ]
    }
   ],
   "source": [
    "autoencoder.summary()"
   ]
  },
  {
   "cell_type": "markdown",
   "metadata": {
    "id": "B4TFt5aSkrq4"
   },
   "source": [
    "Con la red armada, la entrenaremos en 50 épocas. El método `fit()` devuelve un objeto que contiene la historia del entrenamiento, que usaremos luego para graficar la función de pérdida durante el entrenamiento, lo que ayudará a evaluar el desempeño del modelo en forma visual."
   ]
  },
  {
   "cell_type": "code",
   "execution_count": 19,
   "metadata": {
    "colab": {
     "base_uri": "https://localhost:8080/",
     "height": 1000
    },
    "executionInfo": {
     "elapsed": 195414,
     "status": "ok",
     "timestamp": 1601991892635,
     "user": {
      "displayName": "Manuel Carlevaro",
      "photoUrl": "https://lh3.googleusercontent.com/a-/AOh14GgU2aHPlZbak01JdIoElzuKSs_BKDnXIXVlFac94A=s64",
      "userId": "01135182971085477709"
     },
     "user_tz": 180
    },
    "id": "7djBspOjaiBj",
    "outputId": "ad559d87-685b-46de-b128-ebedc8afa69b"
   },
   "outputs": [
    {
     "name": "stdout",
     "output_type": "stream",
     "text": [
      "Epoch 1/50\n",
      "375/375 [==============================] - 4s 10ms/step - loss: 0.0338 - val_loss: 0.0127\n",
      "Epoch 2/50\n",
      "375/375 [==============================] - 3s 9ms/step - loss: 0.0101 - val_loss: 0.0073\n",
      "Epoch 3/50\n",
      "375/375 [==============================] - 4s 9ms/step - loss: 0.0071 - val_loss: 0.0063\n",
      "Epoch 4/50\n",
      "375/375 [==============================] - 3s 9ms/step - loss: 0.0057 - val_loss: 0.0049\n",
      "Epoch 5/50\n",
      "375/375 [==============================] - 3s 9ms/step - loss: 0.0048 - val_loss: 0.0042\n",
      "Epoch 6/50\n",
      "375/375 [==============================] - 3s 9ms/step - loss: 0.0043 - val_loss: 0.0039\n",
      "Epoch 7/50\n",
      "375/375 [==============================] - 3s 9ms/step - loss: 0.0039 - val_loss: 0.0037\n",
      "Epoch 8/50\n",
      "375/375 [==============================] - 4s 9ms/step - loss: 0.0035 - val_loss: 0.0030\n",
      "Epoch 9/50\n",
      "375/375 [==============================] - 3s 9ms/step - loss: 0.0033 - val_loss: 0.0034\n",
      "Epoch 10/50\n",
      "375/375 [==============================] - 4s 9ms/step - loss: 0.0031 - val_loss: 0.0030\n",
      "Epoch 11/50\n",
      "375/375 [==============================] - 3s 9ms/step - loss: 0.0029 - val_loss: 0.0038\n",
      "Epoch 12/50\n",
      "375/375 [==============================] - 3s 9ms/step - loss: 0.0028 - val_loss: 0.0031\n",
      "Epoch 13/50\n",
      "375/375 [==============================] - 4s 9ms/step - loss: 0.0027 - val_loss: 0.0028\n",
      "Epoch 14/50\n",
      "375/375 [==============================] - 3s 9ms/step - loss: 0.0026 - val_loss: 0.0025\n",
      "Epoch 15/50\n",
      "375/375 [==============================] - 3s 9ms/step - loss: 0.0025 - val_loss: 0.0025\n",
      "Epoch 16/50\n",
      "375/375 [==============================] - 3s 9ms/step - loss: 0.0024 - val_loss: 0.0025\n",
      "Epoch 17/50\n",
      "375/375 [==============================] - 3s 9ms/step - loss: 0.0023 - val_loss: 0.0021\n",
      "Epoch 18/50\n",
      "375/375 [==============================] - 3s 9ms/step - loss: 0.0023 - val_loss: 0.0028\n",
      "Epoch 19/50\n",
      "375/375 [==============================] - 3s 9ms/step - loss: 0.0022 - val_loss: 0.0028\n",
      "Epoch 20/50\n",
      "375/375 [==============================] - 3s 9ms/step - loss: 0.0022 - val_loss: 0.0023\n",
      "Epoch 21/50\n",
      "375/375 [==============================] - 3s 9ms/step - loss: 0.0021 - val_loss: 0.0021\n",
      "Epoch 22/50\n",
      "375/375 [==============================] - 3s 9ms/step - loss: 0.0021 - val_loss: 0.0021\n",
      "Epoch 23/50\n",
      "375/375 [==============================] - 4s 9ms/step - loss: 0.0020 - val_loss: 0.0019\n",
      "Epoch 24/50\n",
      "375/375 [==============================] - 3s 9ms/step - loss: 0.0020 - val_loss: 0.0020\n",
      "Epoch 25/50\n",
      "375/375 [==============================] - 3s 9ms/step - loss: 0.0020 - val_loss: 0.0018\n",
      "Epoch 26/50\n",
      "375/375 [==============================] - 3s 9ms/step - loss: 0.0019 - val_loss: 0.0024\n",
      "Epoch 27/50\n",
      "375/375 [==============================] - 3s 9ms/step - loss: 0.0019 - val_loss: 0.0022\n",
      "Epoch 28/50\n",
      "375/375 [==============================] - 3s 9ms/step - loss: 0.0019 - val_loss: 0.0017\n",
      "Epoch 29/50\n",
      "375/375 [==============================] - 3s 9ms/step - loss: 0.0019 - val_loss: 0.0021\n",
      "Epoch 30/50\n",
      "375/375 [==============================] - 3s 9ms/step - loss: 0.0018 - val_loss: 0.0019\n",
      "Epoch 31/50\n",
      "375/375 [==============================] - 4s 9ms/step - loss: 0.0018 - val_loss: 0.0018\n",
      "Epoch 32/50\n",
      "375/375 [==============================] - 3s 9ms/step - loss: 0.0018 - val_loss: 0.0018\n",
      "Epoch 33/50\n",
      "375/375 [==============================] - 3s 9ms/step - loss: 0.0018 - val_loss: 0.0017\n",
      "Epoch 34/50\n",
      "375/375 [==============================] - 4s 9ms/step - loss: 0.0017 - val_loss: 0.0017\n",
      "Epoch 35/50\n",
      "375/375 [==============================] - 3s 9ms/step - loss: 0.0017 - val_loss: 0.0018\n",
      "Epoch 36/50\n",
      "375/375 [==============================] - 3s 9ms/step - loss: 0.0017 - val_loss: 0.0018\n",
      "Epoch 37/50\n",
      "375/375 [==============================] - 3s 9ms/step - loss: 0.0017 - val_loss: 0.0016\n",
      "Epoch 38/50\n",
      "375/375 [==============================] - 3s 9ms/step - loss: 0.0017 - val_loss: 0.0016\n",
      "Epoch 39/50\n",
      "375/375 [==============================] - 3s 9ms/step - loss: 0.0017 - val_loss: 0.0018\n",
      "Epoch 40/50\n",
      "375/375 [==============================] - 3s 9ms/step - loss: 0.0016 - val_loss: 0.0017\n",
      "Epoch 41/50\n",
      "375/375 [==============================] - 3s 9ms/step - loss: 0.0016 - val_loss: 0.0018\n",
      "Epoch 42/50\n",
      "375/375 [==============================] - 3s 9ms/step - loss: 0.0016 - val_loss: 0.0016\n",
      "Epoch 43/50\n",
      "375/375 [==============================] - 3s 9ms/step - loss: 0.0016 - val_loss: 0.0017\n",
      "Epoch 44/50\n",
      "375/375 [==============================] - 3s 9ms/step - loss: 0.0016 - val_loss: 0.0015\n",
      "Epoch 45/50\n",
      "375/375 [==============================] - 4s 9ms/step - loss: 0.0016 - val_loss: 0.0015\n",
      "Epoch 46/50\n",
      "375/375 [==============================] - 3s 9ms/step - loss: 0.0016 - val_loss: 0.0017\n",
      "Epoch 47/50\n",
      "375/375 [==============================] - 3s 9ms/step - loss: 0.0016 - val_loss: 0.0016\n",
      "Epoch 48/50\n",
      "375/375 [==============================] - 4s 10ms/step - loss: 0.0016 - val_loss: 0.0017\n",
      "Epoch 49/50\n",
      "375/375 [==============================] - 4s 10ms/step - loss: 0.0015 - val_loss: 0.0015\n",
      "Epoch 50/50\n",
      "375/375 [==============================] - 4s 10ms/step - loss: 0.0015 - val_loss: 0.0014\n"
     ]
    }
   ],
   "source": [
    "autoencoder_train = autoencoder.fit(train_X, train_ground, batch_size=batch_size,epochs=epochs,verbose=1,validation_data=(valid_X, valid_ground))"
   ]
  },
  {
   "cell_type": "markdown",
   "metadata": {
    "id": "Y8RymwRRmO7S"
   },
   "source": [
    "## Función de pérdida\n",
    "Comparamos la evolución de la función de pérdida durante el entrenamiento y validación:"
   ]
  },
  {
   "cell_type": "code",
   "execution_count": 20,
   "metadata": {
    "colab": {
     "base_uri": "https://localhost:8080/",
     "height": 499
    },
    "executionInfo": {
     "elapsed": 195411,
     "status": "ok",
     "timestamp": 1601991892640,
     "user": {
      "displayName": "Manuel Carlevaro",
      "photoUrl": "https://lh3.googleusercontent.com/a-/AOh14GgU2aHPlZbak01JdIoElzuKSs_BKDnXIXVlFac94A=s64",
      "userId": "01135182971085477709"
     },
     "user_tz": 180
    },
    "id": "UuIXXIa8at9a",
    "outputId": "cbfb3ee4-7d5a-49ab-d738-9d74ddc85ecb"
   },
   "outputs": [
    {
     "data": {
      "image/png": "[encoded data removed]",
      "text/plain": [
       "<Figure size 576x576 with 1 Axes>"
      ]
     },
     "metadata": {
      "needs_background": "light",
      "tags": []
     },
     "output_type": "display_data"
    }
   ],
   "source": [
    "loss = autoencoder_train.history['loss']\n",
    "val_loss = autoencoder_train.history['val_loss']\n",
    "epochs = range(epochs)\n",
    "plt.figure(figsize=[8,8])\n",
    "plt.plot(epochs, loss, 'bo', label='Training loss')\n",
    "plt.plot(epochs, val_loss, 'b', label='Validation loss')\n",
    "plt.title('Training and validation loss')\n",
    "plt.legend()\n",
    "plt.show()"
   ]
  },
  {
   "cell_type": "markdown",
   "metadata": {
    "id": "48qIfFUnnKgB"
   },
   "source": [
    "Podemos ver que la función de pérdida para el entrenamiento y la validación van juntas, lo que indica que no hay sobreajuste. Por lo tanto, la capacidad de generalización del modelo es buena."
   ]
  },
  {
   "cell_type": "markdown",
   "metadata": {
    "id": "X8RFXjzInkpc"
   },
   "source": [
    "## Predicción de los datos de prueba\n",
    "Vamos a utilizar el modelo entrenado para predecir las 10.000 imágenes de prueba, y visualizaremos las imágenes reconstruidas para ver qué tan bien funciona la red."
   ]
  },
  {
   "cell_type": "code",
   "execution_count": 21,
   "metadata": {
    "colab": {
     "base_uri": "https://localhost:8080/",
     "height": 34
    },
    "executionInfo": {
     "elapsed": 196246,
     "status": "ok",
     "timestamp": 1601991893482,
     "user": {
      "displayName": "Manuel Carlevaro",
      "photoUrl": "https://lh3.googleusercontent.com/a-/AOh14GgU2aHPlZbak01JdIoElzuKSs_BKDnXIXVlFac94A=s64",
      "userId": "01135182971085477709"
     },
     "user_tz": 180
    },
    "id": "QFsrR1Y1bpTU",
    "outputId": "7d940fee-9d40-4f9e-a0a8-1b98b886d9d0"
   },
   "outputs": [
    {
     "data": {
      "text/plain": [
       "(10000, 28, 28, 1)"
      ]
     },
     "execution_count": 21,
     "metadata": {
      "tags": []
     },
     "output_type": "execute_result"
    }
   ],
   "source": [
    "pred = autoencoder.predict(test_data)\n",
    "pred.shape"
   ]
  },
  {
   "cell_type": "code",
   "execution_count": 22,
   "metadata": {
    "colab": {
     "base_uri": "https://localhost:8080/",
     "height": 321
    },
    "executionInfo": {
     "elapsed": 199276,
     "status": "ok",
     "timestamp": 1601991896519,
     "user": {
      "displayName": "Manuel Carlevaro",
      "photoUrl": "https://lh3.googleusercontent.com/a-/AOh14GgU2aHPlZbak01JdIoElzuKSs_BKDnXIXVlFac94A=s64",
      "userId": "01135182971085477709"
     },
     "user_tz": 180
    },
    "id": "sFwT1x8-bveC",
    "outputId": "b4b2267e-b6e4-46bf-f43b-fcdd8ffc13c8"
   },
   "outputs": [
    {
     "name": "stdout",
     "output_type": "stream",
     "text": [
      "Imáágenes de prueba\n"
     ]
    },
    {
     "data": {
      "image/png": "[encoded data removed]",
      "text/plain": [
       "<Figure size 1440x288 with 10 Axes>"
      ]
     },
     "metadata": {
      "needs_background": "light",
      "tags": []
     },
     "output_type": "display_data"
    },
    {
     "name": "stdout",
     "output_type": "stream",
     "text": [
      "Reconstrucción de imágenes de prueba\n"
     ]
    },
    {
     "data": {
      "image/png": "[encoded data removed]",
      "text/plain": [
       "<Figure size 1440x288 with 10 Axes>"
      ]
     },
     "metadata": {
      "needs_background": "light",
      "tags": []
     },
     "output_type": "display_data"
    }
   ],
   "source": [
    "plt.figure(figsize=(20, 4))\n",
    "print(\"Imáágenes de prueba\")\n",
    "for i in range(10):\n",
    "    plt.subplot(2, 10, i+1)\n",
    "    plt.imshow(test_data[i, ..., 0], cmap='gray')\n",
    "    curr_lbl = test_labels[i]\n",
    "    plt.title(\"(Label: \" + str(label_dict[curr_lbl]) + \")\")\n",
    "plt.show()    \n",
    "plt.figure(figsize=(20, 4))\n",
    "print(\"Reconstrucción de imágenes de prueba\")\n",
    "for i in range(10):\n",
    "    plt.subplot(2, 10, i+1)\n",
    "    plt.imshow(pred[i, ..., 0], cmap='gray')  \n",
    "plt.show()"
   ]
  },
  {
   "cell_type": "markdown",
   "metadata": {
    "id": "j_1LKblJoQEo"
   },
   "source": [
    "De estas imágenes se puede ver que el modelo realiza un buen trabajo en la reconstrucción de las imágenes. "
   ]
  },
  {
   "cell_type": "markdown",
   "metadata": {
    "id": "1mP5pvFcosXo"
   },
   "source": [
    "## Autoencoder de eliminación de ruido\n",
    "\n",
    "Un autoencoder de eliminación de ruido intenta aprender una representación (el espacio latente o _bottleneck_) que es robusta al ruido. Para ello sumaremos ruido a las imágenes y alimentaremos el _input_ de la parte de encoder de la red, que transformará estas imágenes en un espacio diferente que intentará preservar las letras pero removerá el ruido.\n",
    "\n",
    "Para el entrenamiento definiremos una función de pérdida RMSprop, y en cada iteración la red calculará la pérdida entre la imagen ruidosa y la imagen original, tratando de minimizar la diferencia entre la imagen reconstruida."
   ]
  },
  {
   "cell_type": "markdown",
   "metadata": {
    "id": "JGbpFzGgsLNu"
   },
   "source": [
    "## Agregando ruido a las imágenes\n",
    "Definiremos como un nuevo hiperparámetro al factor de ruido, obtenido con una matriz con media $0.0$ y desviación estándar $1.0$ de una distribución normal.\n",
    "\n",
    "Como ejemplo, la variable `train_x`tiene una forma de 48.000 x 28 x 28 x 1. Entonces, el array con distribución normal tendrá la misma forma que `train_x` y las imágenes ruidosas se obtienen sumando ambos arrays:"
   ]
  },
  {
   "cell_type": "code",
   "execution_count": 23,
   "metadata": {
    "executionInfo": {
     "elapsed": 201363,
     "status": "ok",
     "timestamp": 1601991898608,
     "user": {
      "displayName": "Manuel Carlevaro",
      "photoUrl": "https://lh3.googleusercontent.com/a-/AOh14GgU2aHPlZbak01JdIoElzuKSs_BKDnXIXVlFac94A=s64",
      "userId": "01135182971085477709"
     },
     "user_tz": 180
    },
    "id": "S8Sy4i7QfHWW"
   },
   "outputs": [],
   "source": [
    "noise_factor = 0.5\n",
    "x_train_noisy = train_X + noise_factor * np.random.normal(loc=0.0, scale=1.0, size=train_X.shape)\n",
    "x_valid_noisy = valid_X + noise_factor * np.random.normal(loc=0.0, scale=1.0, size=valid_X.shape)\n",
    "x_test_noisy = test_data + noise_factor * np.random.normal(loc=0.0, scale=1.0, size=test_data.shape)\n",
    "x_train_noisy = np.clip(x_train_noisy, 0., 1.)\n",
    "x_valid_noisy = np.clip(x_valid_noisy, 0., 1.)\n",
    "x_test_noisy = np.clip(x_test_noisy, 0., 1.)"
   ]
  },
  {
   "cell_type": "markdown",
   "metadata": {
    "id": "3PZGFeBltnjB"
   },
   "source": [
    "El método `np.clip()` cortará todos los valores negativos en cero y los valores mayores que uno en uno, de modo de tener siempre los pixeles entre cero y uno."
   ]
  },
  {
   "cell_type": "markdown",
   "metadata": {
    "id": "EliIzKYcuC-U"
   },
   "source": [
    "## Visualización de imágenes ruidosas"
   ]
  },
  {
   "cell_type": "code",
   "execution_count": 24,
   "metadata": {
    "colab": {
     "base_uri": "https://localhost:8080/",
     "height": 243
    },
    "executionInfo": {
     "elapsed": 201654,
     "status": "ok",
     "timestamp": 1601991898904,
     "user": {
      "displayName": "Manuel Carlevaro",
      "photoUrl": "https://lh3.googleusercontent.com/a-/AOh14GgU2aHPlZbak01JdIoElzuKSs_BKDnXIXVlFac94A=s64",
      "userId": "01135182971085477709"
     },
     "user_tz": 180
    },
    "id": "VPWxvUTufNaJ",
    "outputId": "c1fac2c3-770f-4adb-f2b3-24179b606872"
   },
   "outputs": [
    {
     "data": {
      "text/plain": [
       "<matplotlib.image.AxesImage at 0x7f1c1ecfb3c8>"
      ]
     },
     "execution_count": 24,
     "metadata": {
      "tags": []
     },
     "output_type": "execute_result"
    },
    {
     "data": {
      "image/png": "[encoded data removed]",
      "text/plain": [
       "<Figure size 504x504 with 2 Axes>"
      ]
     },
     "metadata": {
      "needs_background": "light",
      "tags": []
     },
     "output_type": "display_data"
    }
   ],
   "source": [
    "plt.figure(figsize=[7,7])\n",
    "\n",
    "# Display the first image in training data\n",
    "plt.subplot(121)\n",
    "curr_img = np.reshape(x_train_noisy[1], (28,28))\n",
    "plt.imshow(curr_img, cmap='gray')\n",
    "\n",
    "# Display the first image in testing data\n",
    "plt.subplot(122)\n",
    "curr_img = np.reshape(x_test_noisy[1], (28,28))\n",
    "plt.imshow(curr_img, cmap='gray')"
   ]
  },
  {
   "cell_type": "markdown",
   "metadata": {
    "id": "IgD2UxJCuNFt"
   },
   "source": [
    "## Estructura de la red\n",
    "Como en el caso anterior, el autoencoder se divide en dos partes: el encoder y el decoder. Para cada parte, usaremos las siguientes capas\n",
    "\n",
    "__Encoder__:\n",
    "\n",
    "- La primera capa tiene 32 filtros 3 x 3 seguidos por una capa de submuestreo (_max-pooling_)\n",
    "- La segunda capa tiene 64 filtros 3 x 3 seguidos por otra capa de submuestreo (_max-pooling_)\n",
    "- La capa final tiene 128 filtros de 3 x 3\n",
    "\n",
    "__Decoder__:\n",
    "\n",
    "- La primera capa tiene 128 filtros seguidos por una capa de sobremuestreo\n",
    "- La segunda capa tiene 64 filtros seguidos por otra capa de sobremuestreo\n",
    "- La capa final del decoder tiene un filtro 3 x 3.\n",
    "\n",
    "Entrenaremos a la red con un tamaño de batch de 128 durante 20 épocas."
   ]
  },
  {
   "cell_type": "code",
   "execution_count": 25,
   "metadata": {
    "executionInfo": {
     "elapsed": 201653,
     "status": "ok",
     "timestamp": 1601991898906,
     "user": {
      "displayName": "Manuel Carlevaro",
      "photoUrl": "https://lh3.googleusercontent.com/a-/AOh14GgU2aHPlZbak01JdIoElzuKSs_BKDnXIXVlFac94A=s64",
      "userId": "01135182971085477709"
     },
     "user_tz": 180
    },
    "id": "-dMAtQbGfRHi"
   },
   "outputs": [],
   "source": [
    "batch_size = 128\n",
    "epochs = 20\n",
    "inChannel = 1\n",
    "x, y = 28, 28\n",
    "input_img = Input(shape = (x, y, inChannel))"
   ]
  },
  {
   "cell_type": "code",
   "execution_count": 26,
   "metadata": {
    "executionInfo": {
     "elapsed": 201653,
     "status": "ok",
     "timestamp": 1601991898907,
     "user": {
      "displayName": "Manuel Carlevaro",
      "photoUrl": "https://lh3.googleusercontent.com/a-/AOh14GgU2aHPlZbak01JdIoElzuKSs_BKDnXIXVlFac94A=s64",
      "userId": "01135182971085477709"
     },
     "user_tz": 180
    },
    "id": "rjKpzaHQfc43"
   },
   "outputs": [],
   "source": [
    "def autoencoder(input_img):\n",
    "    #encoder\n",
    "    conv1 = Conv2D(32, (3, 3), activation='relu', padding='same')(input_img)\n",
    "    pool1 = MaxPooling2D(pool_size=(2, 2))(conv1)\n",
    "    conv2 = Conv2D(64, (3, 3), activation='relu', padding='same')(pool1)\n",
    "    pool2 = MaxPooling2D(pool_size=(2, 2))(conv2)\n",
    "    conv3 = Conv2D(128, (3, 3), activation='relu', padding='same')(pool2)\n",
    "\n",
    "    #decoder\n",
    "    conv4 = Conv2D(128, (3, 3), activation='relu', padding='same')(conv3)\n",
    "    up1 = UpSampling2D((2,2))(conv4)\n",
    "    conv5 = Conv2D(64, (3, 3), activation='relu', padding='same')(up1)\n",
    "    up2 = UpSampling2D((2,2))(conv5)\n",
    "    decoded = Conv2D(1, (3, 3), activation='sigmoid', padding='same')(up2)\n",
    "    return decoded"
   ]
  },
  {
   "cell_type": "code",
   "execution_count": 27,
   "metadata": {
    "executionInfo": {
     "elapsed": 201652,
     "status": "ok",
     "timestamp": 1601991898909,
     "user": {
      "displayName": "Manuel Carlevaro",
      "photoUrl": "https://lh3.googleusercontent.com/a-/AOh14GgU2aHPlZbak01JdIoElzuKSs_BKDnXIXVlFac94A=s64",
      "userId": "01135182971085477709"
     },
     "user_tz": 180
    },
    "id": "6YwrLL5FffH_"
   },
   "outputs": [],
   "source": [
    "autoencoder = Model(input_img, autoencoder(input_img))\n",
    "autoencoder.compile(loss='mean_squared_error', optimizer = RMSprop())"
   ]
  },
  {
   "cell_type": "markdown",
   "metadata": {
    "id": "6aOQTipJvP9W"
   },
   "source": [
    "En el autoencoder tradicional se entrena a la red usando el mismo conjunto de datos para la entrada y para comparar la salida. En este caso, alimentaremos la red con las imágenes con ruido pero usaremos el conjunto original para calcular la función de pérdida:"
   ]
  },
  {
   "cell_type": "code",
   "execution_count": 28,
   "metadata": {
    "colab": {
     "base_uri": "https://localhost:8080/",
     "height": 712
    },
    "executionInfo": {
     "elapsed": 272433,
     "status": "ok",
     "timestamp": 1601991969695,
     "user": {
      "displayName": "Manuel Carlevaro",
      "photoUrl": "https://lh3.googleusercontent.com/a-/AOh14GgU2aHPlZbak01JdIoElzuKSs_BKDnXIXVlFac94A=s64",
      "userId": "01135182971085477709"
     },
     "user_tz": 180
    },
    "id": "1G1oKh7ofhrn",
    "outputId": "7e9db6a2-0c2a-427c-ba6e-c9c43ed41fcc"
   },
   "outputs": [
    {
     "name": "stdout",
     "output_type": "stream",
     "text": [
      "Epoch 1/20\n",
      "375/375 [==============================] - 4s 10ms/step - loss: 0.0560 - val_loss: 0.0314\n",
      "Epoch 2/20\n",
      "375/375 [==============================] - 4s 9ms/step - loss: 0.0243 - val_loss: 0.0219\n",
      "Epoch 3/20\n",
      "375/375 [==============================] - 3s 9ms/step - loss: 0.0208 - val_loss: 0.0194\n",
      "Epoch 4/20\n",
      "375/375 [==============================] - 3s 9ms/step - loss: 0.0191 - val_loss: 0.0209\n",
      "Epoch 5/20\n",
      "375/375 [==============================] - 3s 9ms/step - loss: 0.0180 - val_loss: 0.0171\n",
      "Epoch 6/20\n",
      "375/375 [==============================] - 3s 9ms/step - loss: 0.0172 - val_loss: 0.0167\n",
      "Epoch 7/20\n",
      "375/375 [==============================] - 3s 9ms/step - loss: 0.0166 - val_loss: 0.0169\n",
      "Epoch 8/20\n",
      "375/375 [==============================] - 3s 9ms/step - loss: 0.0161 - val_loss: 0.0163\n",
      "Epoch 9/20\n",
      "375/375 [==============================] - 3s 9ms/step - loss: 0.0157 - val_loss: 0.0165\n",
      "Epoch 10/20\n",
      "375/375 [==============================] - 3s 9ms/step - loss: 0.0154 - val_loss: 0.0155\n",
      "Epoch 11/20\n",
      "375/375 [==============================] - 3s 9ms/step - loss: 0.0151 - val_loss: 0.0160\n",
      "Epoch 12/20\n",
      "375/375 [==============================] - 4s 9ms/step - loss: 0.0149 - val_loss: 0.0159\n",
      "Epoch 13/20\n",
      "375/375 [==============================] - 3s 9ms/step - loss: 0.0147 - val_loss: 0.0151\n",
      "Epoch 14/20\n",
      "375/375 [==============================] - 3s 9ms/step - loss: 0.0145 - val_loss: 0.0150\n",
      "Epoch 15/20\n",
      "375/375 [==============================] - 3s 9ms/step - loss: 0.0143 - val_loss: 0.0150\n",
      "Epoch 16/20\n",
      "375/375 [==============================] - 3s 9ms/step - loss: 0.0142 - val_loss: 0.0153\n",
      "Epoch 17/20\n",
      "375/375 [==============================] - 3s 9ms/step - loss: 0.0140 - val_loss: 0.0150\n",
      "Epoch 18/20\n",
      "375/375 [==============================] - 3s 9ms/step - loss: 0.0139 - val_loss: 0.0146\n",
      "Epoch 19/20\n",
      "375/375 [==============================] - 3s 9ms/step - loss: 0.0138 - val_loss: 0.0151\n",
      "Epoch 20/20\n",
      "375/375 [==============================] - 3s 9ms/step - loss: 0.0137 - val_loss: 0.0151\n"
     ]
    }
   ],
   "source": [
    "autoencoder_train = autoencoder.fit(x_train_noisy, train_X, batch_size=batch_size,epochs=epochs,verbose=1,validation_data=(x_valid_noisy, valid_X))"
   ]
  },
  {
   "cell_type": "markdown",
   "metadata": {
    "id": "GlZ7gk0_v79A"
   },
   "source": [
    "## Comparación de la pérdida en entrenamiento y validación "
   ]
  },
  {
   "cell_type": "code",
   "execution_count": 29,
   "metadata": {
    "colab": {
     "base_uri": "https://localhost:8080/",
     "height": 444
    },
    "executionInfo": {
     "elapsed": 273030,
     "status": "ok",
     "timestamp": 1601991970297,
     "user": {
      "displayName": "Manuel Carlevaro",
      "photoUrl": "https://lh3.googleusercontent.com/a-/AOh14GgU2aHPlZbak01JdIoElzuKSs_BKDnXIXVlFac94A=s64",
      "userId": "01135182971085477709"
     },
     "user_tz": 180
    },
    "id": "sTJxTBRtfkr3",
    "outputId": "0785365c-6c33-49ad-978f-ba526aa1826c"
   },
   "outputs": [
    {
     "data": {
      "image/png": "[encoded data removed]",
      "text/plain": [
       "<Figure size 504x504 with 1 Axes>"
      ]
     },
     "metadata": {
      "needs_background": "light",
      "tags": []
     },
     "output_type": "display_data"
    }
   ],
   "source": [
    "loss = autoencoder_train.history['loss']\n",
    "val_loss = autoencoder_train.history['val_loss']\n",
    "epochs = range(epochs)\n",
    "plt.figure(figsize=[7,7])\n",
    "plt.plot(epochs, loss, 'bo', label='Training loss')\n",
    "plt.plot(epochs, val_loss, 'b', label='Validation loss')\n",
    "plt.title('Training and validation loss')\n",
    "plt.legend()\n",
    "plt.show()"
   ]
  },
  {
   "cell_type": "markdown",
   "metadata": {
    "id": "5hxMwnL_wtLb"
   },
   "source": [
    "De la figura anterior puede apreciarse que el modelo sobreajusta en algunas èpocas, aunque se mantienen sincronizadas la mayor parte del entrenamiento. Se puede intentar mejorar el desempeño del modelo introduciendo alguna complejidad de modo de reducir más la pérdida, o entrenando más épocas (o ambas)"
   ]
  },
  {
   "cell_type": "markdown",
   "metadata": {
    "id": "vEmsmRNZxJr3"
   },
   "source": [
    "## Predicción de los datos de prueba"
   ]
  },
  {
   "cell_type": "code",
   "execution_count": 30,
   "metadata": {
    "executionInfo": {
     "elapsed": 273586,
     "status": "ok",
     "timestamp": 1601991970856,
     "user": {
      "displayName": "Manuel Carlevaro",
      "photoUrl": "https://lh3.googleusercontent.com/a-/AOh14GgU2aHPlZbak01JdIoElzuKSs_BKDnXIXVlFac94A=s64",
      "userId": "01135182971085477709"
     },
     "user_tz": 180
    },
    "id": "t57KUKFSf8SF"
   },
   "outputs": [],
   "source": [
    "pred = autoencoder.predict(x_test_noisy)"
   ]
  },
  {
   "cell_type": "code",
   "execution_count": 31,
   "metadata": {
    "colab": {
     "base_uri": "https://localhost:8080/",
     "height": 466
    },
    "executionInfo": {
     "elapsed": 277473,
     "status": "ok",
     "timestamp": 1601991974749,
     "user": {
      "displayName": "Manuel Carlevaro",
      "photoUrl": "https://lh3.googleusercontent.com/a-/AOh14GgU2aHPlZbak01JdIoElzuKSs_BKDnXIXVlFac94A=s64",
      "userId": "01135182971085477709"
     },
     "user_tz": 180
    },
    "id": "Ar6444V1gBb0",
    "outputId": "544ee5c9-f61a-43ae-b1ff-d836c2903fd4"
   },
   "outputs": [
    {
     "name": "stdout",
     "output_type": "stream",
     "text": [
      "Imágenes de prueba\n"
     ]
    },
    {
     "data": {
      "image/png": "[encoded data removed]",
      "text/plain": [
       "<Figure size 1440x288 with 10 Axes>"
      ]
     },
     "metadata": {
      "needs_background": "light",
      "tags": []
     },
     "output_type": "display_data"
    },
    {
     "name": "stdout",
     "output_type": "stream",
     "text": [
      "Imágenes de prueba con ruido\n"
     ]
    },
    {
     "data": {
      "image/png": "[encoded data removed]",
      "text/plain": [
       "<Figure size 1440x288 with 10 Axes>"
      ]
     },
     "metadata": {
      "needs_background": "light",
      "tags": []
     },
     "output_type": "display_data"
    },
    {
     "name": "stdout",
     "output_type": "stream",
     "text": [
      "Reconstrucción de las imágenes de prueba con ruido\n"
     ]
    },
    {
     "data": {
      "image/png": "[encoded data removed]",
      "text/plain": [
       "<Figure size 1440x288 with 10 Axes>"
      ]
     },
     "metadata": {
      "needs_background": "light",
      "tags": []
     },
     "output_type": "display_data"
    }
   ],
   "source": [
    "plt.figure(figsize=(20, 4))\n",
    "print(\"Imágenes de prueba\")\n",
    "for i in range(10,20,1):\n",
    "    plt.subplot(2, 10, i+1)\n",
    "    plt.imshow(test_data[i, ..., 0], cmap='gray')\n",
    "    curr_lbl = test_labels[i]\n",
    "    plt.title(\"(Label: \" + str(label_dict[curr_lbl]) + \")\")\n",
    "plt.show()    \n",
    "plt.figure(figsize=(20, 4))\n",
    "print(\"Imágenes de prueba con ruido\")\n",
    "for i in range(10,20,1):\n",
    "    plt.subplot(2, 10, i+1)\n",
    "    plt.imshow(x_test_noisy[i, ..., 0], cmap='gray')\n",
    "plt.show()    \n",
    "\n",
    "plt.figure(figsize=(20, 4))\n",
    "print(\"Reconstrucción de las imágenes de prueba con ruido\")\n",
    "for i in range(10,20,1):\n",
    "    plt.subplot(2, 10, i+1)\n",
    "    plt.imshow(pred[i, ..., 0], cmap='gray')  \n",
    "plt.show()\n"
   ]
  },
  {
   "cell_type": "code",
   "execution_count": 31,
   "metadata": {
    "executionInfo": {
     "elapsed": 277473,
     "status": "ok",
     "timestamp": 1601991974751,
     "user": {
      "displayName": "Manuel Carlevaro",
      "photoUrl": "https://lh3.googleusercontent.com/a-/AOh14GgU2aHPlZbak01JdIoElzuKSs_BKDnXIXVlFac94A=s64",
      "userId": "01135182971085477709"
     },
     "user_tz": 180
    },
    "id": "RGVLjAAgD1Qm"
   },
   "outputs": [],
   "source": []
  }
 ],
 "metadata": {
  "accelerator": "GPU",
  "colab": {
   "authorship_tag": "ABX9TyP14vPdY4/MP+Mk6plQwk0x",
   "collapsed_sections": [],
   "name": "Autoencoder-encuentro_03.ipynb",
   "provenance": []
  },
  "kernelspec": {
   "display_name": "Python 3",
   "language": "python",
   "name": "python3"
  },
  "language_info": {
   "codemirror_mode": {
    "name": "ipython",
    "version": 3
   },
   "file_extension": ".py",
   "mimetype": "text/x-python",
   "name": "python",
   "nbconvert_exporter": "python",
   "pygments_lexer": "ipython3",
   "version": "3.8.6"
  }
 },
 "nbformat": 4,
 "nbformat_minor": 1
}
